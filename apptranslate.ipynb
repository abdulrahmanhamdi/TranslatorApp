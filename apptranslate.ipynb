{
  "nbformat": 4,
  "nbformat_minor": 0,
  "metadata": {
    "colab": {
      "provenance": []
    },
    "kernelspec": {
      "name": "python3",
      "display_name": "Python 3"
    },
    "language_info": {
      "name": "python"
    }
  },
  "cells": [
    {
      "cell_type": "code",
      "execution_count": 1,
      "metadata": {
        "colab": {
          "base_uri": "https://localhost:8080/"
        },
        "id": "YPgaec3D04XG",
        "outputId": "7386511d-0f9e-426c-9901-ce0fcdc5db0c"
      },
      "outputs": [
        {
          "output_type": "stream",
          "name": "stdout",
          "text": [
            "\u001b[2K     \u001b[90m━━━━━━━━━━━━━━━━━━━━━━━━━━━━━━━━━━━━━━━━\u001b[0m \u001b[32m44.3/44.3 kB\u001b[0m \u001b[31m1.1 MB/s\u001b[0m eta \u001b[36m0:00:00\u001b[0m\n",
            "\u001b[2K   \u001b[90m━━━━━━━━━━━━━━━━━━━━━━━━━━━━━━━━━━━━━━━━\u001b[0m \u001b[32m9.9/9.9 MB\u001b[0m \u001b[31m42.1 MB/s\u001b[0m eta \u001b[36m0:00:00\u001b[0m\n",
            "\u001b[2K   \u001b[90m━━━━━━━━━━━━━━━━━━━━━━━━━━━━━━━━━━━━━━━━\u001b[0m \u001b[32m6.9/6.9 MB\u001b[0m \u001b[31m69.3 MB/s\u001b[0m eta \u001b[36m0:00:00\u001b[0m\n",
            "\u001b[2K   \u001b[90m━━━━━━━━━━━━━━━━━━━━━━━━━━━━━━━━━━━━━━━━\u001b[0m \u001b[32m79.1/79.1 kB\u001b[0m \u001b[31m5.1 MB/s\u001b[0m eta \u001b[36m0:00:00\u001b[0m\n",
            "\u001b[?25h"
          ]
        }
      ],
      "source": [
        "!pip install -q streamlit transformers sentencepiece\n",
        "!pip install -q pyngrok"
      ]
    },
    {
      "cell_type": "code",
      "source": [
        "%%writefile app.py\n",
        "import os\n",
        "import streamlit as st\n",
        "from transformers import MBartForConditionalGeneration, MBart50TokenizerFast\n",
        "\n",
        "st.set_page_config(page_title=\"Translation Bot\", layout=\"centered\")\n",
        "\n",
        "MODEL_PATH = \"saved_models/mbart50\"\n",
        "MODEL_NAME = \"facebook/mbart-large-50-many-to-many-mmt\"\n",
        "\n",
        "@st.cache_resource\n",
        "def load_model():\n",
        "    if os.path.exists(MODEL_PATH):\n",
        "        model = MBartForConditionalGeneration.from_pretrained(MODEL_PATH)\n",
        "        tokenizer = MBart50TokenizerFast.from_pretrained(MODEL_PATH)\n",
        "    else:\n",
        "        model = MBartForConditionalGeneration.from_pretrained(MODEL_NAME)\n",
        "        tokenizer = MBart50TokenizerFast.from_pretrained(MODEL_NAME)\n",
        "        os.makedirs(MODEL_PATH, exist_ok=True)\n",
        "        model.save_pretrained(MODEL_PATH)\n",
        "        tokenizer.save_pretrained(MODEL_PATH)\n",
        "    return model, tokenizer\n",
        "\n",
        "model, tokenizer = load_model()\n",
        "\n",
        "LANG_CODES = {\n",
        "    \"Arabic\": \"ar_AR\",\n",
        "    \"English\": \"en_XX\",\n",
        "    \"French\": \"fr_XX\",\n",
        "    \"Turkish\": \"tr_TR\",\n",
        "    \"Spanish\": \"es_XX\",\n",
        "    \"German\": \"de_DE\"\n",
        "}\n",
        "\n",
        "def translate(text, src_lang, tgt_lang):\n",
        "    tokenizer.src_lang = src_lang\n",
        "    encoded = tokenizer(text, return_tensors=\"pt\")\n",
        "    generated_tokens = model.generate(\n",
        "        **encoded,\n",
        "        forced_bos_token_id=tokenizer.lang_code_to_id[tgt_lang]\n",
        "    )\n",
        "    return tokenizer.batch_decode(generated_tokens, skip_special_tokens=True)[0]\n",
        "\n",
        "st.title(\"🌍 Multilingual Translation Bot\")\n",
        "\n",
        "text = st.text_area(\"📝 Enter text to translate\", \"Welcome to the world of translation\")\n",
        "\n",
        "col1, col2 = st.columns(2)\n",
        "with col1:\n",
        "    src = st.selectbox(\"Choose source language\", list(LANG_CODES.keys()), index=0)\n",
        "with col2:\n",
        "    tgt = st.selectbox(\"Choose target language\", list(LANG_CODES.keys()), index=1)\n",
        "\n",
        "if st.button(\"Translate\"):\n",
        "    if src == tgt:\n",
        "        st.warning(\"🔁 You cannot translate to the same language!\")\n",
        "    else:\n",
        "        translation = translate(text, LANG_CODES[src], LANG_CODES[tgt])\n",
        "        st.success(\"✅ Translation:\")\n",
        "        st.write(translation)\n"
      ],
      "metadata": {
        "colab": {
          "base_uri": "https://localhost:8080/"
        },
        "id": "Yn2AcQ1a1AjW",
        "outputId": "1f99d6f1-6a1e-4fb4-c30f-ab12f9b2f339"
      },
      "execution_count": 14,
      "outputs": [
        {
          "output_type": "stream",
          "name": "stdout",
          "text": [
            "Overwriting app.py\n"
          ]
        }
      ]
    },
    {
      "cell_type": "code",
      "source": [
        "!ngrok config add-authtoken 2xGzTilikva2J6IqS4gsdbFeEHq_32ZJWr3i2mqwcXQHiBfB2\n"
      ],
      "metadata": {
        "colab": {
          "base_uri": "https://localhost:8080/"
        },
        "id": "ioJZtsCS1HYW",
        "outputId": "216ca203-9295-41e5-b886-116846e16d26"
      },
      "execution_count": 15,
      "outputs": [
        {
          "output_type": "stream",
          "name": "stdout",
          "text": [
            "Authtoken saved to configuration file: /root/.config/ngrok/ngrok.yml\n"
          ]
        }
      ]
    },
    {
      "cell_type": "code",
      "source": [
        "!rm -rf ~/.ngrok2\n"
      ],
      "metadata": {
        "id": "PNQJ7_a-2P_M"
      },
      "execution_count": 7,
      "outputs": []
    },
    {
      "cell_type": "code",
      "source": [
        "from pyngrok import ngrok\n",
        "\n",
        "public_url = ngrok.connect(8501, bind_tls=True)\n",
        "print(\"🔗 App URL:\", public_url)\n",
        "\n",
        "!streamlit run app.py &\n"
      ],
      "metadata": {
        "colab": {
          "base_uri": "https://localhost:8080/"
        },
        "id": "gvKs-PSV3Ey2",
        "outputId": "7d57a21e-85b6-453b-941a-cdb7efcf5e91"
      },
      "execution_count": null,
      "outputs": [
        {
          "output_type": "stream",
          "name": "stdout",
          "text": [
            "🔗 App URL: NgrokTunnel: \"https://8008-34-106-203-96.ngrok-free.app\" -> \"http://localhost:8501\"\n",
            "\n",
            "Collecting usage statistics. To deactivate, set browser.gatherUsageStats to false.\n",
            "\u001b[0m\n",
            "\u001b[0m\n",
            "\u001b[34m\u001b[1m  You can now view your Streamlit app in your browser.\u001b[0m\n",
            "\u001b[0m\n",
            "\u001b[34m  Local URL: \u001b[0m\u001b[1mhttp://localhost:8502\u001b[0m\n",
            "\u001b[34m  Network URL: \u001b[0m\u001b[1mhttp://172.28.0.12:8502\u001b[0m\n",
            "\u001b[34m  External URL: \u001b[0m\u001b[1mhttp://34.106.203.96:8502\u001b[0m\n",
            "\u001b[0m\n"
          ]
        }
      ]
    }
  ]
}